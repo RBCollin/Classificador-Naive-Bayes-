{
 "cells": [
  {
   "cell_type": "code",
   "execution_count": 90,
   "metadata": {},
   "outputs": [],
   "source": [
    "import pandas as pd\n",
    "import numpy as np\n",
    "from sklearn.naive_bayes import MultinomialNB\n",
    "\n",
    "from sklearn.feature_extraction.text import CountVectorizer\n",
    "from sklearn.model_selection import train_test_split\n",
    "\n",
    "from sklearn.metrics import accuracy_score"
   ]
  },
  {
   "cell_type": "code",
   "execution_count": 62,
   "metadata": {},
   "outputs": [],
   "source": [
    "data = pd.read_csv('notices.csv')"
   ]
  },
  {
   "cell_type": "code",
   "execution_count": 63,
   "metadata": {},
   "outputs": [
    {
     "data": {
      "text/html": [
       "<div>\n",
       "<style scoped>\n",
       "    .dataframe tbody tr th:only-of-type {\n",
       "        vertical-align: middle;\n",
       "    }\n",
       "\n",
       "    .dataframe tbody tr th {\n",
       "        vertical-align: top;\n",
       "    }\n",
       "\n",
       "    .dataframe thead th {\n",
       "        text-align: right;\n",
       "    }\n",
       "</style>\n",
       "<table border=\"1\" class=\"dataframe\">\n",
       "  <thead>\n",
       "    <tr style=\"text-align: right;\">\n",
       "      <th></th>\n",
       "      <th>ID</th>\n",
       "      <th>URL</th>\n",
       "      <th>Notice Type</th>\n",
       "      <th>Publication Date</th>\n",
       "      <th>Project ID</th>\n",
       "      <th>Bid Description</th>\n",
       "      <th>Procurement Type</th>\n",
       "      <th>Deadline Date</th>\n",
       "      <th>Country Code</th>\n",
       "      <th>Country Name</th>\n",
       "      <th>Major Sector</th>\n",
       "    </tr>\n",
       "  </thead>\n",
       "  <tbody>\n",
       "    <tr>\n",
       "      <th>0</th>\n",
       "      <td>91243</td>\n",
       "      <td>{'url': 'http://projects.worldbank.org/procure...</td>\n",
       "      <td>Contract Award</td>\n",
       "      <td>2020-06-23T00:00:00.000</td>\n",
       "      <td>P151072</td>\n",
       "      <td>Repair and Renovation (Roofing work) at LRS of...</td>\n",
       "      <td>NaN</td>\n",
       "      <td>NaN</td>\n",
       "      <td>IN</td>\n",
       "      <td>India</td>\n",
       "      <td>NaN</td>\n",
       "    </tr>\n",
       "    <tr>\n",
       "      <th>1</th>\n",
       "      <td>91245</td>\n",
       "      <td>{'url': 'http://projects.worldbank.org/procure...</td>\n",
       "      <td>Invitation for Bids</td>\n",
       "      <td>2020-06-23T00:00:00.000</td>\n",
       "      <td>P157054</td>\n",
       "      <td>MP04 WBN - 02 : Construction of 01 Gravel Road...</td>\n",
       "      <td>Goods and Works</td>\n",
       "      <td>2020-07-14T00:00:00.000</td>\n",
       "      <td>IN</td>\n",
       "      <td>India</td>\n",
       "      <td>NaN</td>\n",
       "    </tr>\n",
       "    <tr>\n",
       "      <th>2</th>\n",
       "      <td>87620</td>\n",
       "      <td>{'url': 'http://projects.worldbank.org/procure...</td>\n",
       "      <td>Contract Award</td>\n",
       "      <td>2020-04-21T00:00:00.000</td>\n",
       "      <td>P128628</td>\n",
       "      <td>Small Contracts Award (DIR,CQS,INDV,SSS)</td>\n",
       "      <td>NaN</td>\n",
       "      <td>NaN</td>\n",
       "      <td>NaN</td>\n",
       "      <td>Congo, Republic of</td>\n",
       "      <td>NaN</td>\n",
       "    </tr>\n",
       "    <tr>\n",
       "      <th>3</th>\n",
       "      <td>88226</td>\n",
       "      <td>{'url': 'http://projects.worldbank.org/procure...</td>\n",
       "      <td>Request for Expression of Interest</td>\n",
       "      <td>2020-05-04T00:00:00.000</td>\n",
       "      <td>P152441</td>\n",
       "      <td>Applied Research Grants Program Selection Comm...</td>\n",
       "      <td>Consultants</td>\n",
       "      <td>2020-05-22T00:00:00.000</td>\n",
       "      <td>GE</td>\n",
       "      <td>Georgia</td>\n",
       "      <td>NaN</td>\n",
       "    </tr>\n",
       "    <tr>\n",
       "      <th>4</th>\n",
       "      <td>87625</td>\n",
       "      <td>{'url': 'http://projects.worldbank.org/procure...</td>\n",
       "      <td>Contract Award</td>\n",
       "      <td>2020-04-21T00:00:00.000</td>\n",
       "      <td>P163699</td>\n",
       "      <td>Supply of Rock thin slicer &amp; petrographic tools</td>\n",
       "      <td>NaN</td>\n",
       "      <td>NaN</td>\n",
       "      <td>NaN</td>\n",
       "      <td>Pacific Islands</td>\n",
       "      <td>NaN</td>\n",
       "    </tr>\n",
       "  </tbody>\n",
       "</table>\n",
       "</div>"
      ],
      "text/plain": [
       "      ID                                                URL  \\\n",
       "0  91243  {'url': 'http://projects.worldbank.org/procure...   \n",
       "1  91245  {'url': 'http://projects.worldbank.org/procure...   \n",
       "2  87620  {'url': 'http://projects.worldbank.org/procure...   \n",
       "3  88226  {'url': 'http://projects.worldbank.org/procure...   \n",
       "4  87625  {'url': 'http://projects.worldbank.org/procure...   \n",
       "\n",
       "                          Notice Type         Publication Date Project ID  \\\n",
       "0                      Contract Award  2020-06-23T00:00:00.000    P151072   \n",
       "1                 Invitation for Bids  2020-06-23T00:00:00.000    P157054   \n",
       "2                      Contract Award  2020-04-21T00:00:00.000    P128628   \n",
       "3  Request for Expression of Interest  2020-05-04T00:00:00.000    P152441   \n",
       "4                      Contract Award  2020-04-21T00:00:00.000    P163699   \n",
       "\n",
       "                                     Bid Description Procurement Type  \\\n",
       "0  Repair and Renovation (Roofing work) at LRS of...              NaN   \n",
       "1  MP04 WBN - 02 : Construction of 01 Gravel Road...  Goods and Works   \n",
       "2           Small Contracts Award (DIR,CQS,INDV,SSS)              NaN   \n",
       "3  Applied Research Grants Program Selection Comm...      Consultants   \n",
       "4    Supply of Rock thin slicer & petrographic tools              NaN   \n",
       "\n",
       "             Deadline Date Country Code        Country Name Major Sector  \n",
       "0                      NaN           IN               India          NaN  \n",
       "1  2020-07-14T00:00:00.000           IN               India          NaN  \n",
       "2                      NaN          NaN  Congo, Republic of          NaN  \n",
       "3  2020-05-22T00:00:00.000           GE             Georgia          NaN  \n",
       "4                      NaN          NaN     Pacific Islands          NaN  "
      ]
     },
     "execution_count": 63,
     "metadata": {},
     "output_type": "execute_result"
    }
   ],
   "source": [
    "data.head()"
   ]
  },
  {
   "cell_type": "code",
   "execution_count": 65,
   "metadata": {},
   "outputs": [],
   "source": [
    "df = data[['Notice Type','Bid Description']]"
   ]
  },
  {
   "cell_type": "code",
   "execution_count": 66,
   "metadata": {},
   "outputs": [
    {
     "data": {
      "text/html": [
       "<div>\n",
       "<style scoped>\n",
       "    .dataframe tbody tr th:only-of-type {\n",
       "        vertical-align: middle;\n",
       "    }\n",
       "\n",
       "    .dataframe tbody tr th {\n",
       "        vertical-align: top;\n",
       "    }\n",
       "\n",
       "    .dataframe thead th {\n",
       "        text-align: right;\n",
       "    }\n",
       "</style>\n",
       "<table border=\"1\" class=\"dataframe\">\n",
       "  <thead>\n",
       "    <tr style=\"text-align: right;\">\n",
       "      <th></th>\n",
       "      <th>Notice Type</th>\n",
       "      <th>Bid Description</th>\n",
       "    </tr>\n",
       "  </thead>\n",
       "  <tbody>\n",
       "    <tr>\n",
       "      <th>0</th>\n",
       "      <td>Contract Award</td>\n",
       "      <td>Repair and Renovation (Roofing work) at LRS of...</td>\n",
       "    </tr>\n",
       "    <tr>\n",
       "      <th>1</th>\n",
       "      <td>Invitation for Bids</td>\n",
       "      <td>MP04 WBN - 02 : Construction of 01 Gravel Road...</td>\n",
       "    </tr>\n",
       "    <tr>\n",
       "      <th>2</th>\n",
       "      <td>Contract Award</td>\n",
       "      <td>Small Contracts Award (DIR,CQS,INDV,SSS)</td>\n",
       "    </tr>\n",
       "    <tr>\n",
       "      <th>3</th>\n",
       "      <td>Request for Expression of Interest</td>\n",
       "      <td>Applied Research Grants Program Selection Comm...</td>\n",
       "    </tr>\n",
       "    <tr>\n",
       "      <th>4</th>\n",
       "      <td>Contract Award</td>\n",
       "      <td>Supply of Rock thin slicer &amp; petrographic tools</td>\n",
       "    </tr>\n",
       "  </tbody>\n",
       "</table>\n",
       "</div>"
      ],
      "text/plain": [
       "                          Notice Type  \\\n",
       "0                      Contract Award   \n",
       "1                 Invitation for Bids   \n",
       "2                      Contract Award   \n",
       "3  Request for Expression of Interest   \n",
       "4                      Contract Award   \n",
       "\n",
       "                                     Bid Description  \n",
       "0  Repair and Renovation (Roofing work) at LRS of...  \n",
       "1  MP04 WBN - 02 : Construction of 01 Gravel Road...  \n",
       "2           Small Contracts Award (DIR,CQS,INDV,SSS)  \n",
       "3  Applied Research Grants Program Selection Comm...  \n",
       "4    Supply of Rock thin slicer & petrographic tools  "
      ]
     },
     "execution_count": 66,
     "metadata": {},
     "output_type": "execute_result"
    }
   ],
   "source": [
    "df.head()"
   ]
  },
  {
   "cell_type": "code",
   "execution_count": 71,
   "metadata": {},
   "outputs": [
    {
     "name": "stdout",
     "output_type": "stream",
     "text": [
      "<class 'pandas.core.frame.DataFrame'>\n",
      "RangeIndex: 16498 entries, 0 to 16497\n",
      "Data columns (total 2 columns):\n",
      " #   Column           Non-Null Count  Dtype \n",
      "---  ------           --------------  ----- \n",
      " 0   Notice Type      16498 non-null  object\n",
      " 1   Bid Description  16350 non-null  object\n",
      "dtypes: object(2)\n",
      "memory usage: 257.9+ KB\n"
     ]
    },
    {
     "data": {
      "text/plain": [
       "(16498, 2)"
      ]
     },
     "execution_count": 71,
     "metadata": {},
     "output_type": "execute_result"
    }
   ],
   "source": [
    "df.info()\n",
    "df.describe()\n",
    "df.isnull().sum()\n",
    "df.shape"
   ]
  },
  {
   "cell_type": "code",
   "execution_count": 76,
   "metadata": {},
   "outputs": [],
   "source": [
    "dfg = df.dropna()"
   ]
  },
  {
   "cell_type": "code",
   "execution_count": 77,
   "metadata": {},
   "outputs": [
    {
     "data": {
      "text/plain": [
       "Notice Type        0\n",
       "Bid Description    0\n",
       "dtype: int64"
      ]
     },
     "execution_count": 77,
     "metadata": {},
     "output_type": "execute_result"
    }
   ],
   "source": [
    "dfg.isnull().sum()"
   ]
  },
  {
   "cell_type": "code",
   "execution_count": 78,
   "metadata": {},
   "outputs": [
    {
     "data": {
      "text/html": [
       "<div>\n",
       "<style scoped>\n",
       "    .dataframe tbody tr th:only-of-type {\n",
       "        vertical-align: middle;\n",
       "    }\n",
       "\n",
       "    .dataframe tbody tr th {\n",
       "        vertical-align: top;\n",
       "    }\n",
       "\n",
       "    .dataframe thead th {\n",
       "        text-align: right;\n",
       "    }\n",
       "</style>\n",
       "<table border=\"1\" class=\"dataframe\">\n",
       "  <thead>\n",
       "    <tr style=\"text-align: right;\">\n",
       "      <th></th>\n",
       "      <th>Notice Type</th>\n",
       "      <th>Bid Description</th>\n",
       "    </tr>\n",
       "  </thead>\n",
       "  <tbody>\n",
       "    <tr>\n",
       "      <th>0</th>\n",
       "      <td>Contract Award</td>\n",
       "      <td>Repair and Renovation (Roofing work) at LRS of...</td>\n",
       "    </tr>\n",
       "    <tr>\n",
       "      <th>1</th>\n",
       "      <td>Invitation for Bids</td>\n",
       "      <td>MP04 WBN - 02 : Construction of 01 Gravel Road...</td>\n",
       "    </tr>\n",
       "    <tr>\n",
       "      <th>2</th>\n",
       "      <td>Contract Award</td>\n",
       "      <td>Small Contracts Award (DIR,CQS,INDV,SSS)</td>\n",
       "    </tr>\n",
       "    <tr>\n",
       "      <th>3</th>\n",
       "      <td>Request for Expression of Interest</td>\n",
       "      <td>Applied Research Grants Program Selection Comm...</td>\n",
       "    </tr>\n",
       "    <tr>\n",
       "      <th>4</th>\n",
       "      <td>Contract Award</td>\n",
       "      <td>Supply of Rock thin slicer &amp; petrographic tools</td>\n",
       "    </tr>\n",
       "  </tbody>\n",
       "</table>\n",
       "</div>"
      ],
      "text/plain": [
       "                          Notice Type  \\\n",
       "0                      Contract Award   \n",
       "1                 Invitation for Bids   \n",
       "2                      Contract Award   \n",
       "3  Request for Expression of Interest   \n",
       "4                      Contract Award   \n",
       "\n",
       "                                     Bid Description  \n",
       "0  Repair and Renovation (Roofing work) at LRS of...  \n",
       "1  MP04 WBN - 02 : Construction of 01 Gravel Road...  \n",
       "2           Small Contracts Award (DIR,CQS,INDV,SSS)  \n",
       "3  Applied Research Grants Program Selection Comm...  \n",
       "4    Supply of Rock thin slicer & petrographic tools  "
      ]
     },
     "execution_count": 78,
     "metadata": {},
     "output_type": "execute_result"
    }
   ],
   "source": [
    "dfg.head()"
   ]
  },
  {
   "cell_type": "code",
   "execution_count": 82,
   "metadata": {},
   "outputs": [
    {
     "data": {
      "text/plain": [
       "0                            Contract Award\n",
       "1                       Invitation for Bids\n",
       "2                            Contract Award\n",
       "3        Request for Expression of Interest\n",
       "4                            Contract Award\n",
       "                        ...                \n",
       "16493                   Invitation for Bids\n",
       "16494                   Invitation for Bids\n",
       "16495                        Contract Award\n",
       "16496                        Contract Award\n",
       "16497                   Invitation for Bids\n",
       "Name: Notice Type, Length: 16350, dtype: object"
      ]
     },
     "execution_count": 82,
     "metadata": {},
     "output_type": "execute_result"
    }
   ],
   "source": [
    "dfg['Notice Type']"
   ]
  },
  {
   "cell_type": "code",
   "execution_count": 92,
   "metadata": {},
   "outputs": [
    {
     "data": {
      "text/plain": [
       "array(['Contract Award', 'Invitation for Bids',\n",
       "       'Request for Expression of Interest',\n",
       "       'Invitation for Prequalification'], dtype=object)"
      ]
     },
     "execution_count": 92,
     "metadata": {},
     "output_type": "execute_result"
    }
   ],
   "source": [
    "dfg['Notice Type'].unique()"
   ]
  },
  {
   "cell_type": "code",
   "execution_count": 97,
   "metadata": {},
   "outputs": [
    {
     "name": "stderr",
     "output_type": "stream",
     "text": [
      "C:\\Users\\berna\\anaconda3\\lib\\site-packages\\ipykernel_launcher.py:1: SettingWithCopyWarning: \n",
      "A value is trying to be set on a copy of a slice from a DataFrame.\n",
      "Try using .loc[row_indexer,col_indexer] = value instead\n",
      "\n",
      "See the caveats in the documentation: https://pandas.pydata.org/pandas-docs/stable/user_guide/indexing.html#returning-a-view-versus-a-copy\n",
      "  \"\"\"Entry point for launching an IPython kernel.\n"
     ]
    },
    {
     "data": {
      "text/html": [
       "<div>\n",
       "<style scoped>\n",
       "    .dataframe tbody tr th:only-of-type {\n",
       "        vertical-align: middle;\n",
       "    }\n",
       "\n",
       "    .dataframe tbody tr th {\n",
       "        vertical-align: top;\n",
       "    }\n",
       "\n",
       "    .dataframe thead th {\n",
       "        text-align: right;\n",
       "    }\n",
       "</style>\n",
       "<table border=\"1\" class=\"dataframe\">\n",
       "  <thead>\n",
       "    <tr style=\"text-align: right;\">\n",
       "      <th></th>\n",
       "      <th>Notice Type</th>\n",
       "      <th>Bid Description</th>\n",
       "      <th>Num Type</th>\n",
       "    </tr>\n",
       "  </thead>\n",
       "  <tbody>\n",
       "    <tr>\n",
       "      <th>0</th>\n",
       "      <td>Contract Award</td>\n",
       "      <td>Repair and Renovation (Roofing work) at LRS of...</td>\n",
       "      <td>0</td>\n",
       "    </tr>\n",
       "    <tr>\n",
       "      <th>1</th>\n",
       "      <td>Invitation for Bids</td>\n",
       "      <td>MP04 WBN - 02 : Construction of 01 Gravel Road...</td>\n",
       "      <td>1</td>\n",
       "    </tr>\n",
       "    <tr>\n",
       "      <th>2</th>\n",
       "      <td>Contract Award</td>\n",
       "      <td>Small Contracts Award (DIR,CQS,INDV,SSS)</td>\n",
       "      <td>0</td>\n",
       "    </tr>\n",
       "    <tr>\n",
       "      <th>3</th>\n",
       "      <td>Request for Expression of Interest</td>\n",
       "      <td>Applied Research Grants Program Selection Comm...</td>\n",
       "      <td>2</td>\n",
       "    </tr>\n",
       "    <tr>\n",
       "      <th>4</th>\n",
       "      <td>Contract Award</td>\n",
       "      <td>Supply of Rock thin slicer &amp; petrographic tools</td>\n",
       "      <td>0</td>\n",
       "    </tr>\n",
       "  </tbody>\n",
       "</table>\n",
       "</div>"
      ],
      "text/plain": [
       "                          Notice Type  \\\n",
       "0                      Contract Award   \n",
       "1                 Invitation for Bids   \n",
       "2                      Contract Award   \n",
       "3  Request for Expression of Interest   \n",
       "4                      Contract Award   \n",
       "\n",
       "                                     Bid Description  Num Type  \n",
       "0  Repair and Renovation (Roofing work) at LRS of...         0  \n",
       "1  MP04 WBN - 02 : Construction of 01 Gravel Road...         1  \n",
       "2           Small Contracts Award (DIR,CQS,INDV,SSS)         0  \n",
       "3  Applied Research Grants Program Selection Comm...         2  \n",
       "4    Supply of Rock thin slicer & petrographic tools         0  "
      ]
     },
     "execution_count": 97,
     "metadata": {},
     "output_type": "execute_result"
    }
   ],
   "source": [
    "dfg['Num Type'] = dfg['Notice Type'].map({'Contract Award':0,'Invitation for Bids':1,'Request for Expression of Interest':2,'Invitation for Prequalification':3})\n",
    "dfg.head()"
   ]
  },
  {
   "cell_type": "code",
   "execution_count": 99,
   "metadata": {},
   "outputs": [],
   "source": [
    "xtrain,xtest,ytrain,ytest = train_test_split(dfg['Bid Description'],dfg['Num Type'],random_state=42)"
   ]
  },
  {
   "cell_type": "code",
   "execution_count": 109,
   "metadata": {},
   "outputs": [],
   "source": [
    "vect = CountVectorizer()\n",
    "Xtrain = vect.fit_transform(xtrain)\n",
    "Xtest = vect.transform(xtest)"
   ]
  },
  {
   "cell_type": "code",
   "execution_count": 110,
   "metadata": {},
   "outputs": [],
   "source": [
    "clf = MultinomialNB().fit(Xtrain,ytrain)"
   ]
  },
  {
   "cell_type": "code",
   "execution_count": 111,
   "metadata": {},
   "outputs": [
    {
     "data": {
      "text/plain": [
       "MultinomialNB(alpha=1.0, class_prior=None, fit_prior=True)"
      ]
     },
     "execution_count": 111,
     "metadata": {},
     "output_type": "execute_result"
    }
   ],
   "source": [
    "clf"
   ]
  },
  {
   "cell_type": "code",
   "execution_count": 112,
   "metadata": {},
   "outputs": [],
   "source": [
    "result = clf.predict(Xtest)"
   ]
  },
  {
   "cell_type": "code",
   "execution_count": 113,
   "metadata": {},
   "outputs": [
    {
     "name": "stdout",
     "output_type": "stream",
     "text": [
      "[2 2 0 ... 2 1 2]\n"
     ]
    }
   ],
   "source": [
    "print(result)"
   ]
  },
  {
   "cell_type": "code",
   "execution_count": 114,
   "metadata": {},
   "outputs": [
    {
     "data": {
      "text/plain": [
       "0.7942759295499021"
      ]
     },
     "execution_count": 114,
     "metadata": {},
     "output_type": "execute_result"
    }
   ],
   "source": [
    "accuracy_score(result,ytest)"
   ]
  },
  {
   "cell_type": "code",
   "execution_count": 115,
   "metadata": {},
   "outputs": [
    {
     "data": {
      "text/plain": [
       "0.7942759295499021"
      ]
     },
     "execution_count": 115,
     "metadata": {},
     "output_type": "execute_result"
    }
   ],
   "source": [
    "np.mean(result == ytest)    "
   ]
  },
  {
   "cell_type": "code",
   "execution_count": 132,
   "metadata": {},
   "outputs": [],
   "source": [
    "def predict_notices(notices):\n",
    "    test = vect.transform(notices)\n",
    "    pred= clf.predict(test)\n",
    "    if pred  == 0:\n",
    "         return 'Contract Award'\n",
    "    elif pred == 1:\n",
    "        return 'Invitation for Bids'\n",
    "    elif pred == 2:\n",
    "        return 'Request for Expression of Interest'\n",
    "    elif pred == 3:\n",
    "        return 'Invitation for Prequalification'\n",
    "    else:\n",
    "        return 'no class found'"
   ]
  },
  {
   "cell_type": "code",
   "execution_count": 139,
   "metadata": {},
   "outputs": [
    {
     "name": "stdout",
     "output_type": "stream",
     "text": [
      "Contract Award\n"
     ]
    }
   ],
   "source": [
    "x=[\"Applied Research and small contracts \"]\n",
    "r = predict_notices(x)\n",
    "print (r)"
   ]
  },
  {
   "cell_type": "code",
   "execution_count": 141,
   "metadata": {},
   "outputs": [
    {
     "data": {
      "text/plain": [
       "array([[1719,  317,  226,    1],\n",
       "       [ 169,  588,   76,    0],\n",
       "       [  21,   26,  940,    0],\n",
       "       [   0,    4,    1,    0]], dtype=int64)"
      ]
     },
     "execution_count": 141,
     "metadata": {},
     "output_type": "execute_result"
    }
   ],
   "source": [
    "from sklearn.metrics import confusion_matrix\n",
    "\n",
    "confusion_matrix(ytest, result)"
   ]
  },
  {
   "cell_type": "code",
   "execution_count": null,
   "metadata": {},
   "outputs": [],
   "source": []
  },
  {
   "cell_type": "code",
   "execution_count": null,
   "metadata": {},
   "outputs": [],
   "source": []
  },
  {
   "cell_type": "code",
   "execution_count": null,
   "metadata": {},
   "outputs": [],
   "source": []
  }
 ],
 "metadata": {
  "kernelspec": {
   "display_name": "Python 3",
   "language": "python",
   "name": "python3"
  },
  "language_info": {
   "codemirror_mode": {
    "name": "ipython",
    "version": 3
   },
   "file_extension": ".py",
   "mimetype": "text/x-python",
   "name": "python",
   "nbconvert_exporter": "python",
   "pygments_lexer": "ipython3",
   "version": "3.7.6"
  }
 },
 "nbformat": 4,
 "nbformat_minor": 4
}
